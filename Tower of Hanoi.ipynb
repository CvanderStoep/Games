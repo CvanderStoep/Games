{
 "cells": [
  {
   "cell_type": "code",
   "execution_count": 20,
   "metadata": {},
   "outputs": [],
   "source": [
    "movecount = 0\n",
    "def move(f,t): #move from to\n",
    "    global movecount\n",
    "#     print(\"Move disc from {} to {}!\".format(f,t))\n",
    "    movecount +=1"
   ]
  },
  {
   "cell_type": "code",
   "execution_count": 21,
   "metadata": {},
   "outputs": [],
   "source": [
    "move(\"A\",\"C\")"
   ]
  },
  {
   "cell_type": "code",
   "execution_count": 22,
   "metadata": {},
   "outputs": [],
   "source": [
    "def moveVia(f,v,t): #move from via to\n",
    "    move(f,v)\n",
    "    move(v,t)    "
   ]
  },
  {
   "cell_type": "code",
   "execution_count": 23,
   "metadata": {},
   "outputs": [],
   "source": [
    "moveVia(\"A\",\"B\",\"C\")"
   ]
  },
  {
   "cell_type": "code",
   "execution_count": 24,
   "metadata": {},
   "outputs": [],
   "source": [
    "def hanoi(n,f,h,t): #move n from helper to\n",
    "    if n==0:\n",
    "        pass\n",
    "    else:\n",
    "        hanoi(n-1,f,t,h)\n",
    "        move(f,t)\n",
    "        hanoi(n-1,h,f,t)"
   ]
  },
  {
   "cell_type": "code",
   "execution_count": 27,
   "metadata": {},
   "outputs": [
    {
     "name": "stdout",
     "output_type": "stream",
     "text": [
      "1 1\n",
      "2 3\n",
      "3 7\n",
      "4 15\n",
      "5 31\n",
      "6 63\n",
      "7 127\n",
      "8 255\n",
      "9 511\n",
      "10 1023\n",
      "11 2047\n",
      "12 4095\n",
      "13 8191\n",
      "14 16383\n",
      "15 32767\n",
      "16 65535\n",
      "17 131071\n",
      "18 262143\n",
      "19 524287\n"
     ]
    }
   ],
   "source": [
    "for n in range(1,20):\n",
    "    movecount = 0\n",
    "    hanoi(n,\"A\",\"B\",\"C\")\n",
    "    print(n, movecount)"
   ]
  },
  {
   "cell_type": "code",
   "execution_count": null,
   "metadata": {},
   "outputs": [],
   "source": []
  }
 ],
 "metadata": {
  "kernelspec": {
   "display_name": "Python 3",
   "language": "python",
   "name": "python3"
  },
  "language_info": {
   "codemirror_mode": {
    "name": "ipython",
    "version": 3
   },
   "file_extension": ".py",
   "mimetype": "text/x-python",
   "name": "python",
   "nbconvert_exporter": "python",
   "pygments_lexer": "ipython3",
   "version": "3.7.4"
  }
 },
 "nbformat": 4,
 "nbformat_minor": 2
}
