{
 "cells": [
  {
   "cell_type": "code",
   "execution_count": 25,
   "metadata": {},
   "outputs": [],
   "source": [
    "NQueens = 7\n",
    "Queens = [None] * NQueens"
   ]
  },
  {
   "cell_type": "code",
   "execution_count": 26,
   "metadata": {},
   "outputs": [],
   "source": [
    "def possible(x,y):\n",
    "#     global Queens\n",
    "    for i in range(0,x): # check rows\n",
    "        if Queens[i] == y:\n",
    "            return False\n",
    "        if abs(y - Queens[i]) == abs(x-i): #check diagonals\n",
    "            return False\n",
    "    return True"
   ]
  },
  {
   "cell_type": "code",
   "execution_count": 27,
   "metadata": {},
   "outputs": [],
   "source": [
    "def solve():\n",
    "#     global Queens\n",
    "    for x in range(0,NQueens):\n",
    "        if Queens[x] is None:\n",
    "            for i in range(0,NQueens):\n",
    "                if possible(x,i):\n",
    "                    Queens[x] = i\n",
    "                    solve()\n",
    "                    Queens[x] = None\n",
    "            return\n",
    "    print(Queens)"
   ]
  },
  {
   "cell_type": "code",
   "execution_count": 28,
   "metadata": {},
   "outputs": [
    {
     "name": "stdout",
     "output_type": "stream",
     "text": [
      "[0, 2, 4, 6, 1, 3, 5]\n",
      "[0, 3, 6, 2, 5, 1, 4]\n",
      "[0, 4, 1, 5, 2, 6, 3]\n",
      "[0, 5, 3, 1, 6, 4, 2]\n",
      "[1, 3, 0, 6, 4, 2, 5]\n",
      "[1, 3, 5, 0, 2, 4, 6]\n",
      "[1, 4, 0, 3, 6, 2, 5]\n",
      "[1, 4, 2, 0, 6, 3, 5]\n",
      "[1, 4, 6, 3, 0, 2, 5]\n",
      "[1, 5, 2, 6, 3, 0, 4]\n",
      "[1, 6, 4, 2, 0, 5, 3]\n",
      "[2, 0, 5, 1, 4, 6, 3]\n",
      "[2, 0, 5, 3, 1, 6, 4]\n",
      "[2, 4, 6, 1, 3, 5, 0]\n",
      "[2, 5, 1, 4, 0, 3, 6]\n",
      "[2, 6, 1, 3, 5, 0, 4]\n",
      "[2, 6, 3, 0, 4, 1, 5]\n",
      "[3, 0, 2, 5, 1, 6, 4]\n",
      "[3, 0, 4, 1, 5, 2, 6]\n",
      "[3, 1, 6, 4, 2, 0, 5]\n",
      "[3, 5, 0, 2, 4, 6, 1]\n",
      "[3, 6, 2, 5, 1, 4, 0]\n",
      "[3, 6, 4, 1, 5, 0, 2]\n",
      "[4, 0, 3, 6, 2, 5, 1]\n",
      "[4, 0, 5, 3, 1, 6, 2]\n",
      "[4, 1, 5, 2, 6, 3, 0]\n",
      "[4, 2, 0, 5, 3, 1, 6]\n",
      "[4, 6, 1, 3, 5, 0, 2]\n",
      "[4, 6, 1, 5, 2, 0, 3]\n",
      "[5, 0, 2, 4, 6, 1, 3]\n",
      "[5, 1, 4, 0, 3, 6, 2]\n",
      "[5, 2, 0, 3, 6, 4, 1]\n",
      "[5, 2, 4, 6, 0, 3, 1]\n",
      "[5, 2, 6, 3, 0, 4, 1]\n",
      "[5, 3, 1, 6, 4, 2, 0]\n",
      "[5, 3, 6, 0, 2, 4, 1]\n",
      "[6, 1, 3, 5, 0, 2, 4]\n",
      "[6, 2, 5, 1, 4, 0, 3]\n",
      "[6, 3, 0, 4, 1, 5, 2]\n",
      "[6, 4, 2, 0, 5, 3, 1]\n"
     ]
    }
   ],
   "source": [
    "solve()"
   ]
  }
 ],
 "metadata": {
  "kernelspec": {
   "display_name": "Python 3",
   "language": "python",
   "name": "python3"
  },
  "language_info": {
   "codemirror_mode": {
    "name": "ipython",
    "version": 3
   },
   "file_extension": ".py",
   "mimetype": "text/x-python",
   "name": "python",
   "nbconvert_exporter": "python",
   "pygments_lexer": "ipython3",
   "version": "3.7.4"
  }
 },
 "nbformat": 4,
 "nbformat_minor": 2
}
